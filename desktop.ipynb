{
 "cells": [
  {
   "cell_type": "code",
   "execution_count": null,
   "metadata": {},
   "outputs": [],
   "source": [
    "#importing a module\n",
    "import sys\n",
    "print('nugget')\n",
    "sys.exit()\n",
    "print('nugget')\n",
    "\n"
   ]
  },
  {
   "cell_type": "code",
   "execution_count": null,
   "metadata": {},
   "outputs": [],
   "source": [
    "#See the traceback of the program\n",
    "%tb\n"
   ]
  },
  {
   "cell_type": "code",
   "execution_count": 7,
   "metadata": {},
   "outputs": [],
   "source": [
    "#import pyperclip"
   ]
  },
  {
   "cell_type": "code",
   "execution_count": 8,
   "metadata": {},
   "outputs": [
    {
     "name": "stdout",
     "output_type": "stream",
     "text": [
      "helloman dillman\n"
     ]
    }
   ],
   "source": [
    "#Function creation\n",
    "def hello(name):\n",
    "    print(\"helloman \"+name)\n",
    "    \n",
    "hello('dillman')    "
   ]
  },
  {
   "cell_type": "code",
   "execution_count": 9,
   "metadata": {},
   "outputs": [
    {
     "name": "stdout",
     "output_type": "stream",
     "text": [
      "spam\n",
      "gharjao\n",
      "gharjao\n"
     ]
    }
   ],
   "source": [
    "#Passing an arguement in a function\n",
    "lol = 'spam'\n",
    "def dillman():\n",
    "    global lol\n",
    "    lol='gharjao'\n",
    "    print(lol)\n",
    "    \n",
    "print(lol)   \n",
    "dillman()\n",
    "print(lol)"
   ]
  },
  {
   "cell_type": "code",
   "execution_count": null,
   "metadata": {},
   "outputs": [
    {
     "name": "stdout",
     "output_type": "stream",
     "text": [
      "enter your name\n",
      "abhishek\n",
      "hey abhishek enter a random no. btw 1-10\n",
      "3\n",
      "enter a lower no.\n",
      "hey abhishek enter a random no. btw 1-10\n",
      "2\n",
      "yes! you have guessed correct\n",
      "it took you 2 guesses\n",
      "hey abhishek enter a random no. btw 1-10\n"
     ]
    }
   ],
   "source": [
    "# for loops and if, elif\n",
    "import random\n",
    "print('enter your name')\n",
    "name = input()\n",
    "random_generated = random.randint(1,10)\n",
    "\n",
    "for guesses in range(1,6):\n",
    "    print('hey '+ name+ ' enter a random no. btw 1-10')\n",
    "    random_no = int(input())\n",
    "    \n",
    "    if random_no == random_generated:\n",
    "        print('yes! you have guessed correct')\n",
    "        str_guesses = str(guesses)        \n",
    "        print('it took you ' +str_guesses+' guesses') \n",
    "    elif random_no < random_generated:\n",
    "        print('enter a higher no.')\n",
    "    elif random_no > random_generated:\n",
    "        print('enter a lower no.')\n",
    "        \n",
    "print('you didnt guess shit even after '+ str(guesses)+' attempts')       "
   ]
  },
  {
   "cell_type": "code",
   "execution_count": null,
   "metadata": {},
   "outputs": [],
   "source": [
    "# Palindrome by slicing\n",
    "for attempts in range (100):\n",
    "    print('enter the string to check for palindrome')\n",
    "    pali_entr = input()\n",
    "    if pali_entr == pali_entr[::-1]:\n",
    "        print('its a palindrome')\n",
    "    else:\n",
    "        print('not a palindrome')"
   ]
  },
  {
   "cell_type": "code",
   "execution_count": 5,
   "metadata": {},
   "outputs": [
    {
     "data": {
      "text/plain": [
       "['matjaobc', 'aajaobc']"
      ]
     },
     "execution_count": 5,
     "metadata": {},
     "output_type": "execute_result"
    }
   ],
   "source": [
    "# lists in python\n",
    "spam = [\"gharojaobc\",\"matjaobc\",\"aajaobc\", \"kalaaobc\"]\n",
    "spam[1:3]"
   ]
  },
  {
   "cell_type": "code",
   "execution_count": 1,
   "metadata": {},
   "outputs": [],
   "source": [
    "# List slicing\n",
    "ram = [1,2,3,4,5]\n",
    "print(ram)\n",
    "ram[1:2] = ['11','12','13','14']\n",
    "print(ram, len(ram))\n",
    "\n",
    "# sham = int(str(ram))\n",
    "# sham"
   ]
  },
  {
   "cell_type": "code",
   "execution_count": 1,
   "metadata": {},
   "outputs": [
    {
     "data": {
      "text/plain": [
       "True"
      ]
     },
     "execution_count": 1,
     "metadata": {},
     "output_type": "execute_result"
    }
   ],
   "source": [
    "# 'in' keyword\n",
    "c = '123'\n",
    "d = list(c)\n",
    "'1' in d"
   ]
  },
  {
   "cell_type": "code",
   "execution_count": 5,
   "metadata": {},
   "outputs": [
    {
     "name": "stdout",
     "output_type": "stream",
     "text": [
      "enter the word\n",
      "abhishek\n",
      "a palindrome\n"
     ]
    }
   ],
   "source": [
    "# Palindrome Program\n",
    "print('enter the word')\n",
    "name = input()\n",
    "loop = list(name)\n",
    "x = 0\n",
    "for i in range(len(name)):\n",
    "    if loop[i-1] != loop[-i]:\n",
    "        x == '1'\n",
    "    else:\n",
    "        x == '2'\n",
    "\n",
    "if x == 1:\n",
    "    print('not a palindrome')\n",
    "else: \n",
    "    print('a palindrome')\n",
    "        "
   ]
  },
  {
   "cell_type": "code",
   "execution_count": 2,
   "metadata": {},
   "outputs": [
    {
     "name": "stdout",
     "output_type": "stream",
     "text": [
      "the index of list is 0and item at that point is 1\n",
      "the index of list is 1and item at that point is 2\n",
      "the index of list is 2and item at that point is 3\n"
     ]
    }
   ],
   "source": [
    "# List Iteration\n",
    "list = ['1','2','3']\n",
    "for i in range(len(list)):\n",
    "    print('the index of list is '+ str(i)+'and item at that point is '+ list[i])"
   ]
  },
  {
   "cell_type": "code",
   "execution_count": 10,
   "metadata": {},
   "outputs": [
    {
     "name": "stdout",
     "output_type": "stream",
     "text": [
      "123\n",
      "456\n"
     ]
    }
   ],
   "source": [
    "# List copy into another list\n",
    "x,y,z = list\n",
    "print(x+y+z)\n",
    "t,p,r = '4','5','6'\n",
    "print(t+p+r)"
   ]
  },
  {
   "cell_type": "code",
   "execution_count": 7,
   "metadata": {},
   "outputs": [
    {
     "name": "stdout",
     "output_type": "stream",
     "text": [
      "1\n",
      "2\n",
      "3\n",
      "4\n",
      "5\n"
     ]
    }
   ],
   "source": [
    "# for loop +2 iteration\n",
    "count=0\n",
    "for i  in range(0,10,2):\n",
    "    count+=1\n",
    "    print(count)"
   ]
  },
  {
   "cell_type": "code",
   "execution_count": 6,
   "metadata": {},
   "outputs": [
    {
     "name": "stdout",
     "output_type": "stream",
     "text": [
      "None\n"
     ]
    }
   ],
   "source": [
    "# .append, .index, .insert, etc list functions\n",
    "span = ['aditya','abhishek','nachiket']\n",
    "span.append('gharjaobc')\n",
    "span.index('aditya')\n",
    "span.insert(1,'tau')\n",
    "span = span.append('talwar')\n",
    "print(span)"
   ]
  },
  {
   "cell_type": "code",
   "execution_count": 1,
   "metadata": {},
   "outputs": [
    {
     "data": {
      "text/plain": [
       "['abhishek', 'harpreet', 'juned', 'raojeet']"
      ]
     },
     "execution_count": 1,
     "metadata": {},
     "output_type": "execute_result"
    }
   ],
   "source": [
    "# Sort function in a list\n",
    "list = ['abhishek','juned','raojeet','harpreet']\n",
    "list.sort()\n",
    "list"
   ]
  },
  {
   "cell_type": "code",
   "execution_count": 4,
   "metadata": {},
   "outputs": [
    {
     "data": {
      "text/plain": [
       "['abhishek', 'juned', 'raojeet']"
      ]
     },
     "execution_count": 4,
     "metadata": {},
     "output_type": "execute_result"
    }
   ],
   "source": [
    "# deletion function\n",
    "del list[1]\n",
    "list"
   ]
  },
  {
   "cell_type": "code",
   "execution_count": 7,
   "metadata": {},
   "outputs": [
    {
     "data": {
      "text/plain": [
       "'namely is abhi'"
      ]
     },
     "execution_count": 7,
     "metadata": {},
     "output_type": "execute_result"
    }
   ],
   "source": [
    "# string slicing\n",
    "str1 = 'name is abhishek'\n",
    "str2 = str1[0:3]+'ely'+str1[4:12]\n",
    "str2"
   ]
  },
  {
   "cell_type": "code",
   "execution_count": 10,
   "metadata": {},
   "outputs": [
    {
     "name": "stdout",
     "output_type": "stream",
     "text": [
      "[1, 2, 3, 4, 5, 6, 70] [1, 2, 3, 4, 5, 6, 70]\n"
     ]
    }
   ],
   "source": [
    "# when you copy a list to another a reference is passed instead of the actual list so any change in one list will change the another\n",
    "list1 = [1,2,3,4,5,6]\n",
    "list2 = list1\n",
    "list2.append(70)\n",
    "print(list1,list2)"
   ]
  },
  {
   "cell_type": "code",
   "execution_count": 9,
   "metadata": {},
   "outputs": [
    {
     "name": "stdout",
     "output_type": "stream",
     "text": [
      "[1, 2, 3, 4, 5, 6, 70, 77]\n",
      "[1, 2, 3, 4, 5, 6, 70]\n"
     ]
    }
   ],
   "source": [
    "# if you actually want to copy a list use this module\n",
    "import copy\n",
    "list3 = copy.deepcopy(list1)\n",
    "list3.append(77)\n",
    "print(list3)\n",
    "print(list1)"
   ]
  },
  {
   "cell_type": "code",
   "execution_count": 2,
   "metadata": {},
   "outputs": [
    {
     "data": {
      "text/plain": [
       "{'name': 'abhishek', 'place': 'california', 'program': 'Masters'}"
      ]
     },
     "execution_count": 2,
     "metadata": {},
     "output_type": "execute_result"
    }
   ],
   "source": [
    "# Dictionaries\n",
    "dic = {'name':'abhishek','place':'california','program':'Masters'}\n",
    "dic"
   ]
  },
  {
   "cell_type": "code",
   "execution_count": 1,
   "metadata": {},
   "outputs": [
    {
     "name": "stdout",
     "output_type": "stream",
     "text": [
      "no values\n",
      "['name', 'age', 'Roll.no']\n",
      "name\n",
      "age\n",
      "Roll.no\n",
      "name abhishek\n",
      "age 19\n",
      "Roll.no 8312\n"
     ]
    },
    {
     "data": {
      "text/plain": [
       "True"
      ]
     },
     "execution_count": 1,
     "metadata": {},
     "output_type": "execute_result"
    }
   ],
   "source": [
    "# try except statements: Put the box you think eill have error in try and put the response to that error in except\n",
    "eggs = {'name':'abhishek', 'age': 19, 'Roll.no' : '8312'}\n",
    "\n",
    "try:\n",
    "    list(eggs.value())\n",
    "except:\n",
    "    print('no values')\n",
    "    \n",
    "print(list(eggs.keys())) \n",
    "\n",
    "for keys in eggs.keys():\n",
    "    print(keys)\n",
    "    \n",
    "for key,values in eggs.items():\n",
    "    print(key,values)\n",
    "    \n",
    "'name' in eggs.keys()\n",
    "    "
   ]
  },
  {
   "cell_type": "code",
   "execution_count": 3,
   "metadata": {},
   "outputs": [
    {
     "name": "stdout",
     "output_type": "stream",
     "text": [
      "8\n"
     ]
    },
    {
     "data": {
      "text/plain": [
       "'nahimila'"
      ]
     },
     "execution_count": 3,
     "metadata": {},
     "output_type": "execute_result"
    }
   ],
   "source": [
    "# get values from dictionary\n",
    "dic = {'class':8, 'rank':1, 'bhailog':'yes'}\n",
    "print(dic.get('class','nahimila'))\n",
    "dic.get('rude','nahimila')\n"
   ]
  },
  {
   "cell_type": "code",
   "execution_count": 4,
   "metadata": {},
   "outputs": [
    {
     "name": "stdout",
     "output_type": "stream",
     "text": [
      "{'M': 5, 'a': 312, 'y': 121, ' ': 900, 'I': 48, 'h': 207, 'v': 23, 'e': 411, 'o': 267, 'u': 169, 'r': 165, 't': 323, 'n': 244, 'i': 245, ',': 74, 'p': 88, 'l': 209, 's': 248, '?': 21, '\\n': 108, 'W': 11, 'S': 83, 'm': 136, 'd': 159, 'w': 65, \"'\": 88, 'g': 69, 'b': 37, 'Y': 5, 'c': 63, 'k': 46, 'f': 42, 'J': 2, 'P': 11, 'T': 10, 'j': 21, 'A': 28, '(': 2, '!': 6, ')': 2, '\"': 16, 'H': 5, 'D': 8, '.': 4, 'F': 4, 'E': 2, 'C': 10, 'L': 2, '-': 5, 'B': 9, 'V': 5, 'G': 2, 'x': 4, 'O': 2, '—': 1, 'K': 3, '3': 2, 'q': 1, '9': 1, '0': 2, '%': 1, ':': 1}\n"
     ]
    }
   ],
   "source": [
    "# set default sets the value of any new occurence in dictionary to whatever we want (in this case 0)*****\n",
    "\n",
    "str = '''May I have your attention, please?\n",
    "May I have your attention, please?\n",
    "Will the real Slim Shady please stand up?\n",
    "I repeat, will the real Slim Shady please stand up?\n",
    "We're gonna have a problem here\n",
    "Y'all act like you never seen a white person before\n",
    "Jaws all on the floor like Pam like Tommy just burst in the door\n",
    "And started whoopin' her ass worse than before\n",
    "They first were divorced, throwin' her over furniture (Agh!)\n",
    "It's the return of the \"Ah, wait, no way, you're kidding\n",
    "He didn't just say what I think he did, did he?\"\n",
    "And Dr. Dre said, nothing, you idiots!\n",
    "Dr. Dre's dead, he's locked in my basement (ha ha!)\n",
    "Feminist women love Eminem\n",
    "\"Chicka, chicka, chicka, Slim Shady, I'm sick of him\n",
    "Look at him, walkin' around, grabbin' his you-know-what\n",
    "Flippin' the you-know-who, \" \"Yeah, but he's so cute though.\"\n",
    "Yeah, I probably got a couple of screws up in my head loose\n",
    "But no worse than what's goin' on in your parents' bedrooms\n",
    "Sometimes I wanna get on TV and just let loose\n",
    "But can't, but it's cool for Tom Green to hump a dead moose\n",
    "\"My bum is on your lips, my bum is on your lips\"\n",
    "And if I'm lucky, you might just give it a little kiss\n",
    "And that's the message that we deliver to little kids\n",
    "And expect them not to know what a woman's clitoris is\n",
    "Of course they're gonna know what intercourse is\n",
    "By the time they hit fourth grade\n",
    "They've got the Discovery Channel, don't they?\n",
    "We ain't nothin' but mammals—well, some of us, cannibals\n",
    "Who cut other people open like cantaloupes\n",
    "But if we can hump dead animals and antelopes\n",
    "Then there's no reason that a man and another man can't elope\n",
    "But if you feel like I feel, I got the antidote\n",
    "Women, wave your pantyhose, sing the chorus, and it goes\n",
    "I'm Slim Shady, yes I'm the real Shady\n",
    "All you other Slim Shadys are just imitating\n",
    "So won't the real Slim Shady please stand up\n",
    "Please stand up, please stand up?\n",
    "'Cause I'm Slim Shady, yes I'm the real Shady\n",
    "All you other Slim Shadys are just imitating\n",
    "So won't the real Slim Shady please stand up\n",
    "Please stand up, please stand up?\n",
    "Will Smith don't gotta cuss in his raps to sell records\n",
    "Well, I do, so fuck him and fuck you too!\n",
    "You think I give a damn about a Grammy?\n",
    "Half of you critics can't even stomach me, let alone stand me\n",
    "\"But Slim, what if you win, wouldn't it be weird?\"\n",
    "Why, so you guys could just lie to get me here?\n",
    "So you can sit me here next to Britney Spears?\n",
    "Shit, Christina Aguilera better switch me chairs\n",
    "So I can sit next to Carson Daly and Fred Durst\n",
    "And hear 'em argue over who she gave head to first\n",
    "Little bitch put me on blast on MTV\n",
    "\"Yeah, he's cute, but I think he's married to Kim, hee-hee.\"\n",
    "I should download her audio on MP3\n",
    "And show the whole world how you gave Eminem VD\n",
    "I'm sick of you little girl and boy groups\n",
    "All you do is annoy me, so I have been sent here to destroy you\n",
    "And there's a million of us just like me\n",
    "Who cuss like me, who just don't give a fuck like me\n",
    "Who dress like me, walk, talk and act like me\n",
    "And just might be the next best thing, but not quite me\n",
    "'Cause I'm Slim Shady, yes I'm the real Shady\n",
    "All you other Slim Shadys are just imitating\n",
    "So won't the real Slim Shady please stand up\n",
    "Please stand up, please stand up?\n",
    "'Cause I'm Slim Shady, yes I'm the real Shady\n",
    "All you other Slim Shadys are just imitating\n",
    "So won't the real Slim Shady please stand up\n",
    "Please stand up, please stand up?\n",
    "I'm like a head trip to listen to, 'cause I'm only givin' you\n",
    "Things you joke about with your friends inside your livin' room\n",
    "The only difference is I got the balls to say it in front of y'all\n",
    "And I don't gotta be false or sugarcoat it at all\n",
    "I just get on the mic and spit it\n",
    "And whether you like to admit it, I just shit it\n",
    "Better than 90% of you rappers out can\n",
    "Then you wonder: \"How can\n",
    "Kids eat up these albums like Valiums?\"\n",
    "It's funny, 'cause at the rate I'm going, when I'm 30\n",
    "I'll be the only person in the nursing home flirting\n",
    "Pinching nurse's asses when I'm jacking off with Jergens\n",
    "And I'm jerking, but this whole bag of Viagra isn't working\n",
    "And every single person is a Slim Shady lurking\n",
    "He could be working at Burger King, spittin' on your onion rings\n",
    "Or in the parking lot, circling, screaming, \"I don't give a fuck!\"\n",
    "With his windows down and his system up\n",
    "So will the real Shady please stand up\n",
    "And put one of those fingers on each hand up?\n",
    "And be proud to be outta your mind and outta control\n",
    "And one more time, loud as you can, how does it go?\n",
    "I'm Slim Shady, yes I'm the real Shady\n",
    "All you other Slim Shadys are just imitating\n",
    "So won't the real Slim Shady please stand up\n",
    "Please stand up, please stand up?\n",
    "'Cause I'm Slim Shady, yes I'm the real Shady\n",
    "All you other Slim Shadys are just imitating\n",
    "So won't the real Slim Shady please stand up\n",
    "Please stand up, please stand up?\n",
    "'Cause I'm Slim Shady, yes I'm the real Shady\n",
    "All you other Slim Shadys are just imitating\n",
    "So won't the real Slim Shady please stand up\n",
    "Please stand up, please stand up?\n",
    "'Cause I'm Slim Shady, yes I'm the real Shady\n",
    "All you other Slim Shadys are just imitating\n",
    "So won't the real Slim Shady please stand up\n",
    "Please stand up, please stand up?\n",
    "Ha ha, I guess there's a Slim Shady in all of us\n",
    "Fuck it, let's all stand up!'''\n",
    "dic1 = {}\n",
    "\n",
    "for chr in str:\n",
    "    dic1.setdefault(chr, 0)\n",
    "    dic1[chr] = dic1[chr]+1\n",
    "    \n",
    "print(dic1)    "
   ]
  },
  {
   "cell_type": "code",
   "execution_count": 4,
   "metadata": {},
   "outputs": [
    {
     "data": {
      "text/plain": [
       "True"
      ]
     },
     "execution_count": 4,
     "metadata": {},
     "output_type": "execute_result"
    }
   ],
   "source": [
    "# basic upper case / lowercase functions\n",
    "str1 ='abhishek'\n",
    "'abhi' in str1\n",
    "str1.upper()\n",
    "str1.isalnum()\n",
    "str1.isalpha()\n",
    "str1.is"
   ]
  },
  {
   "cell_type": "code",
   "execution_count": 2,
   "metadata": {},
   "outputs": [
    {
     "data": {
      "text/plain": [
       "True"
      ]
     },
     "execution_count": 2,
     "metadata": {},
     "output_type": "execute_result"
    }
   ],
   "source": [
    "# checking functions\n",
    "text1 = 'hello world'\n",
    "text1.startswith('hello')\n",
    "text1.endswith('world')"
   ]
  },
  {
   "cell_type": "code",
   "execution_count": 7,
   "metadata": {},
   "outputs": [
    {
     "name": "stdout",
     "output_type": "stream",
     "text": [
      "['My', 'name', 'is', 'abhishek', 'ahirrao']\n",
      "['mumbai', 'is', 'in', 'maharashtra']\n"
     ]
    },
    {
     "data": {
      "text/plain": [
       "'hey my name is ayushi \\ni play cricket and workout every day \\nthis code is a lie and so is whatever'"
      ]
     },
     "execution_count": 7,
     "metadata": {},
     "output_type": "execute_result"
    }
   ],
   "source": [
    "# string to list conversion word by word*****\n",
    "string1 = \"My name is abhishek ahirrao\"\n",
    "a = string1.split()\n",
    "print(a)\n",
    "b = [\"mumbai\", \"is\", \"in\", \"maharashtra\"]\n",
    "','.join(b)\n",
    "# <=====?\n",
    "print(b)\n",
    "paragraph = '''hey my name is abhishek \n",
    "i play cricket and workout every day \n",
    "this code is a lie and so is whatever'''\n",
    "paragraph.split('\\n')\n",
    "paragraph.replace('abhishek','ayushi')\n",
    "\n",
    "\n"
   ]
  },
  {
   "cell_type": "code",
   "execution_count": 1,
   "metadata": {},
   "outputs": [],
   "source": [
    "# recursion *****\n",
    "\n",
    "# # 1,3,6,10,15,21,....\n",
    "# def sum_till(n):\n",
    "#     sum = 0\n",
    "#     for i in range(1,n+1):\n",
    "#         sum += i\n",
    "#     return sum    \n",
    "        \n",
    "        \n",
    "# def fibo(n):    \n",
    "#     list1 = []\n",
    "#     for i in range(1,n+1):\n",
    "#         list1.append(sum_till(i))\n",
    "#     print(list1)    \n",
    "        \n",
    "# fibo(6)  \n",
    "\n",
    "def fibo(n):\n",
    "    if(n == 0):\n",
    "        print('end')\n",
    "   \n",
    " elif(n == 1):\n",
    "        return 1\n",
    "    else:\n",
    "        sum = fibo(n-1) + n\n",
    "        print(sum)\n",
    "    \n",
    "\n",
    "fibo(5)"
   ]
  },
  {
   "cell_type": "code",
   "execution_count": 13,
   "metadata": {},
   "outputs": [
    {
     "name": "stdout",
     "output_type": "stream",
     "text": [
      "['91-8928335999', '91-7774815152']\n"
     ]
    }
   ],
   "source": [
    "# regex eqns\n",
    "import re\n",
    "\n",
    "regex_object = re.compile(r\"\\d\\d-\\d\\d\\d\\d\\d\\d\\d\\d\\d\\d\")\n",
    "# mo = regex_object.search(\"my phone number is +91-8928335999 and my phone no. is not +91-7774815152\")\n",
    "mo = regex_object.findall(\"my phone number is +91-8928335999 and my phone no. is not +91-7774815152\")\n",
    "# print(mo.group())\n",
    "print(mo)\n"
   ]
  },
  {
   "cell_type": "code",
   "execution_count": 16,
   "metadata": {},
   "outputs": [
    {
     "name": "stdout",
     "output_type": "stream",
     "text": [
      "('(91)', '(8928335999)')\n"
     ]
    }
   ],
   "source": [
    "import re\n",
    "\n",
    "regex_obj = re.compile(r\"(\\(\\d\\d\\))-(\\(\\d\\d\\d\\d\\d\\d\\d\\d\\d\\d\\))\")\n",
    "mo = regex_obj.search(\"my phone number is +(91)-(8928335999) and my phone no. is not +91-7774815152\")\n",
    "print(mo.group(1,2))"
   ]
  },
  {
   "cell_type": "code",
   "execution_count": 23,
   "metadata": {},
   "outputs": [
    {
     "name": "stdout",
     "output_type": "stream",
     "text": [
      "Batmobile\n"
     ]
    }
   ],
   "source": [
    "import re\n",
    "regex_obj = re.compile(r\"Bat(mobile|rat|man|agator)\")\n",
    "mo = regex_obj.search(\"Sasha where is my Batmobile as well as my Batagator\")\n",
    "print(mo.group())\n",
    "\n"
   ]
  },
  {
   "cell_type": "code",
   "execution_count": 9,
   "metadata": {},
   "outputs": [
    {
     "name": "stdout",
     "output_type": "stream",
     "text": [
      "folder1\\folder2\\app.js\n"
     ]
    },
    {
     "data": {
      "text/plain": [
       "True"
      ]
     },
     "execution_count": 9,
     "metadata": {},
     "output_type": "execute_result"
    }
   ],
   "source": [
    "# os module working finding file path, Currentworkingdir, etc\n",
    "\n",
    "import os\n",
    "print(os.path.join(\"folder1\",\"folder2\",\"app.js\"))\n",
    "os.sep\n",
    "os.getcwd() \n",
    "# gets current working directory*/\n",
    "os.chdir('c://')\n",
    "os.getcwd()\n",
    "os.path.abspath('app.js')\n",
    "os.path.dirname('older1\\folder2\\app.js') \n",
    "# returns directory name\n",
    "os.path.basename('app.js')\n",
    "os.path.exists('C:\\\\Users\\\\ahirr\\\\Desktop\\\\CourseraApplication.txt')\n",
    "os.path.isfile(\"C:\\\\Users\\\\ahirr\\\\Desktop\\\\CourseraApplication.txt\")\n",
    "os.path.isdir(\"C:\\\\Users\\\\ahirr\\\\Desktop\")"
   ]
  },
  {
   "cell_type": "code",
   "execution_count": 8,
   "metadata": {},
   "outputs": [
    {
     "name": "stdout",
     "output_type": "stream",
     "text": [
      "1.0334148406982422 Mb\n"
     ]
    }
   ],
   "source": [
    "# count total size of a folder\n",
    "import os\n",
    "# total_files = os.listdir('D:\\\\Downloads')\n",
    "# print(total_files)\n",
    "# for files in total_files:\n",
    "#     try:\n",
    "#         print(files+\" : \")\n",
    "try:\n",
    "    a = os.path.getsize(\"D:\\\\Downloads\\\\Paper-Summaries.pdf\")\n",
    "    b = str(a/(1024*1024))\n",
    "    print(b+\" Mb\")\n",
    "except:\n",
    "    print(\"error\")\n",
    "#     except:\n",
    "#         print('something is wrong')\n",
    "\n",
    "files = os.listdir"
   ]
  },
  {
   "cell_type": "code",
   "execution_count": 3,
   "metadata": {
    "scrolled": false
   },
   "outputs": [],
   "source": [
    "# size of all files and folders in a folder\n",
    "\n",
    "import os\n",
    "\n",
    "os.chdir(\"D:\\\\Downloads\")\n",
    "T_files = os.listdir(\"D:\\\\Downloads\")\n",
    "sums = 0\n",
    "\n",
    "for i in T_files:\n",
    "    path = os.path.abspath(i)\n",
    "    sums = sums + float(os.path.getsize(path)/(1024*1024))\n",
    "    print(path+\" : \"+str(os.path.getsize(path)/(1024*1024))+\" Mb\")\n",
    "print(\"totalsize =\"+str(sums/1024)+\" Gb\")   "
   ]
  },
  {
   "cell_type": "code",
   "execution_count": 5,
   "metadata": {},
   "outputs": [
    {
     "data": {
      "text/plain": [
       "'is previous values of this file wiped?this should be appended'"
      ]
     },
     "execution_count": 5,
     "metadata": {},
     "output_type": "execute_result"
    }
   ],
   "source": [
    "# Files in python\n",
    "\n",
    "file = open(\"hello.txt\", 'w')\n",
    "file.write(\"is this visible?\")\n",
    "file = open(\"hello.txt\",'r')\n",
    "file.read()\n",
    "file = open(\"hello.txt\", 'w')\n",
    "file.write(\"is previous values of this file wiped?\")\n",
    "file = open(\"hello.txt\",'r')\n",
    "file.read()\n",
    "file = open(\"hello.txt\",'a')\n",
    "file.write(\"this should be appended\")\n",
    "file = open(\"hello.txt\",'r')\n",
    "file.read()"
   ]
  },
  {
   "cell_type": "code",
   "execution_count": 80,
   "metadata": {},
   "outputs": [
    {
     "data": {
      "text/plain": [
       "'C:\\\\Users\\\\ahirr\\\\Desktop\\\\ghata'"
      ]
     },
     "execution_count": 80,
     "metadata": {},
     "output_type": "execute_result"
    }
   ],
   "source": [
    "# copy folders\n",
    "\n",
    "import shutil\n",
    "\n",
    "# shutil.copy(\"C:\\\\Users\\\\ahirr\\\\Desktop\\\\Bhai\\\\app.py\",\"C:\\\\Users\\\\ahirr\\\\Desktop\\\\lol\")\n",
    "# shutil.copytree(\"C:\\\\Users\\\\ahirr\\\\Desktop\\\\Bhai\",\"C:\\\\Users\\\\ahirr\\\\Desktop\\\\ghata\")"
   ]
  },
  {
   "cell_type": "code",
   "execution_count": 4,
   "metadata": {},
   "outputs": [
    {
     "ename": "FileNotFoundError",
     "evalue": "[WinError 3] The system cannot find the path specified: 'C:\\\\Users\\\\ahirr\\\\Desktop\\\\Bhai'",
     "output_type": "error",
     "traceback": [
      "\u001b[1;31m---------------------------------------------------------------------------\u001b[0m",
      "\u001b[1;31mFileNotFoundError\u001b[0m                         Traceback (most recent call last)",
      "\u001b[1;32m<ipython-input-4-7ebd8c9f2a2a>\u001b[0m in \u001b[0;36m<module>\u001b[1;34m\u001b[0m\n\u001b[0;32m      1\u001b[0m \u001b[1;32mimport\u001b[0m \u001b[0mos\u001b[0m\u001b[1;33m,\u001b[0m\u001b[0mshutil\u001b[0m\u001b[1;33m\u001b[0m\u001b[1;33m\u001b[0m\u001b[0m\n\u001b[1;32m----> 2\u001b[1;33m \u001b[0mshutil\u001b[0m\u001b[1;33m.\u001b[0m\u001b[0mrmtree\u001b[0m\u001b[1;33m(\u001b[0m\u001b[1;34m\"C:\\\\Users\\\\ahirr\\\\Desktop\\\\Bhai\"\u001b[0m\u001b[1;33m)\u001b[0m\u001b[1;33m\u001b[0m\u001b[1;33m\u001b[0m\u001b[0m\n\u001b[0m\u001b[0;32m      3\u001b[0m \u001b[1;33m\u001b[0m\u001b[0m\n",
      "\u001b[1;32m~\\Anaconda3\\lib\\shutil.py\u001b[0m in \u001b[0;36mrmtree\u001b[1;34m(path, ignore_errors, onerror)\u001b[0m\n\u001b[0;32m    505\u001b[0m             \u001b[1;31m# can't continue even if onerror hook returns\u001b[0m\u001b[1;33m\u001b[0m\u001b[1;33m\u001b[0m\u001b[1;33m\u001b[0m\u001b[0m\n\u001b[0;32m    506\u001b[0m             \u001b[1;32mreturn\u001b[0m\u001b[1;33m\u001b[0m\u001b[1;33m\u001b[0m\u001b[0m\n\u001b[1;32m--> 507\u001b[1;33m         \u001b[1;32mreturn\u001b[0m \u001b[0m_rmtree_unsafe\u001b[0m\u001b[1;33m(\u001b[0m\u001b[0mpath\u001b[0m\u001b[1;33m,\u001b[0m \u001b[0monerror\u001b[0m\u001b[1;33m)\u001b[0m\u001b[1;33m\u001b[0m\u001b[1;33m\u001b[0m\u001b[0m\n\u001b[0m\u001b[0;32m    508\u001b[0m \u001b[1;33m\u001b[0m\u001b[0m\n\u001b[0;32m    509\u001b[0m \u001b[1;31m# Allow introspection of whether or not the hardening against symlink\u001b[0m\u001b[1;33m\u001b[0m\u001b[1;33m\u001b[0m\u001b[1;33m\u001b[0m\u001b[0m\n",
      "\u001b[1;32m~\\Anaconda3\\lib\\shutil.py\u001b[0m in \u001b[0;36m_rmtree_unsafe\u001b[1;34m(path, onerror)\u001b[0m\n\u001b[0;32m    366\u001b[0m             \u001b[0mentries\u001b[0m \u001b[1;33m=\u001b[0m \u001b[0mlist\u001b[0m\u001b[1;33m(\u001b[0m\u001b[0mscandir_it\u001b[0m\u001b[1;33m)\u001b[0m\u001b[1;33m\u001b[0m\u001b[1;33m\u001b[0m\u001b[0m\n\u001b[0;32m    367\u001b[0m     \u001b[1;32mexcept\u001b[0m \u001b[0mOSError\u001b[0m\u001b[1;33m:\u001b[0m\u001b[1;33m\u001b[0m\u001b[1;33m\u001b[0m\u001b[0m\n\u001b[1;32m--> 368\u001b[1;33m         \u001b[0monerror\u001b[0m\u001b[1;33m(\u001b[0m\u001b[0mos\u001b[0m\u001b[1;33m.\u001b[0m\u001b[0mscandir\u001b[0m\u001b[1;33m,\u001b[0m \u001b[0mpath\u001b[0m\u001b[1;33m,\u001b[0m \u001b[0msys\u001b[0m\u001b[1;33m.\u001b[0m\u001b[0mexc_info\u001b[0m\u001b[1;33m(\u001b[0m\u001b[1;33m)\u001b[0m\u001b[1;33m)\u001b[0m\u001b[1;33m\u001b[0m\u001b[1;33m\u001b[0m\u001b[0m\n\u001b[0m\u001b[0;32m    369\u001b[0m         \u001b[0mentries\u001b[0m \u001b[1;33m=\u001b[0m \u001b[1;33m[\u001b[0m\u001b[1;33m]\u001b[0m\u001b[1;33m\u001b[0m\u001b[1;33m\u001b[0m\u001b[0m\n\u001b[0;32m    370\u001b[0m     \u001b[1;32mfor\u001b[0m \u001b[0mentry\u001b[0m \u001b[1;32min\u001b[0m \u001b[0mentries\u001b[0m\u001b[1;33m:\u001b[0m\u001b[1;33m\u001b[0m\u001b[1;33m\u001b[0m\u001b[0m\n",
      "\u001b[1;32m~\\Anaconda3\\lib\\shutil.py\u001b[0m in \u001b[0;36m_rmtree_unsafe\u001b[1;34m(path, onerror)\u001b[0m\n\u001b[0;32m    363\u001b[0m \u001b[1;32mdef\u001b[0m \u001b[0m_rmtree_unsafe\u001b[0m\u001b[1;33m(\u001b[0m\u001b[0mpath\u001b[0m\u001b[1;33m,\u001b[0m \u001b[0monerror\u001b[0m\u001b[1;33m)\u001b[0m\u001b[1;33m:\u001b[0m\u001b[1;33m\u001b[0m\u001b[1;33m\u001b[0m\u001b[0m\n\u001b[0;32m    364\u001b[0m     \u001b[1;32mtry\u001b[0m\u001b[1;33m:\u001b[0m\u001b[1;33m\u001b[0m\u001b[1;33m\u001b[0m\u001b[0m\n\u001b[1;32m--> 365\u001b[1;33m         \u001b[1;32mwith\u001b[0m \u001b[0mos\u001b[0m\u001b[1;33m.\u001b[0m\u001b[0mscandir\u001b[0m\u001b[1;33m(\u001b[0m\u001b[0mpath\u001b[0m\u001b[1;33m)\u001b[0m \u001b[1;32mas\u001b[0m \u001b[0mscandir_it\u001b[0m\u001b[1;33m:\u001b[0m\u001b[1;33m\u001b[0m\u001b[1;33m\u001b[0m\u001b[0m\n\u001b[0m\u001b[0;32m    366\u001b[0m             \u001b[0mentries\u001b[0m \u001b[1;33m=\u001b[0m \u001b[0mlist\u001b[0m\u001b[1;33m(\u001b[0m\u001b[0mscandir_it\u001b[0m\u001b[1;33m)\u001b[0m\u001b[1;33m\u001b[0m\u001b[1;33m\u001b[0m\u001b[0m\n\u001b[0;32m    367\u001b[0m     \u001b[1;32mexcept\u001b[0m \u001b[0mOSError\u001b[0m\u001b[1;33m:\u001b[0m\u001b[1;33m\u001b[0m\u001b[1;33m\u001b[0m\u001b[0m\n",
      "\u001b[1;31mFileNotFoundError\u001b[0m: [WinError 3] The system cannot find the path specified: 'C:\\\\Users\\\\ahirr\\\\Desktop\\\\Bhai'"
     ]
    }
   ],
   "source": [
    "import os,shutil\n",
    "shutil.rmtree(\"C:\\\\Users\\\\ahirr\\\\Desktop\\\\Bhai\")\n",
    "\n"
   ]
  },
  {
   "cell_type": "code",
   "execution_count": 4,
   "metadata": {},
   "outputs": [],
   "source": [
    "# finding all folders and files in a folder *****\n",
    "\n",
    "import os\n",
    "os.chdir('c:\\\\')\n",
    "for folderName, subfolders, filenames in os.walk('C:\\\\Users\\\\ahirr\\\\Desktop'):\n",
    "        print(\"folders in main drive are \"+ folderName)\n",
    "        print(\"folders in \"+(folderName)+\" are \"+str(subfolders))\n",
    "#         print(\"files in \"+(subfolders)+\" are \"+str((filesnames))\n",
    "              \n",
    "        for subfolder in subfolders:\n",
    "              if 'fish' in subfolder:\n",
    "                  os.rmdir(\"subfolder\")\n",
    "                  print(subfolder)\n",
    "                    \n",
    "        print('\\n\\n\\n\\n')                        \n",
    "\n",
    "        for file in filenames:\n",
    "              if file.endswith('.lproj'):\n",
    "                  print('File we needed'+file)"
   ]
  },
  {
   "cell_type": "code",
   "execution_count": 2,
   "metadata": {},
   "outputs": [
    {
     "name": "stdout",
     "output_type": "stream",
     "text": [
      "C:\\Users\\ahirr\n",
      "the traceback is saved in a txt file\n"
     ]
    }
   ],
   "source": [
    "# how to save a traceback in a separate file and 'raise' statement which raises a error\n",
    "\n",
    "import traceback\n",
    "import os\n",
    "print(os.getcwd())\n",
    "try:\n",
    "    raise Exception('This is a error message')\n",
    "except:\n",
    "    errorFile = open(\"error_log.txt\", 'a')\n",
    "    errorFile.write(traceback.format_exc())\n",
    "    errorFile.close()\n",
    "    print('the traceback is saved in a txt file')"
   ]
  },
  {
   "cell_type": "code",
   "execution_count": null,
   "metadata": {},
   "outputs": [],
   "source": [
    "assert \"anything in your code that is absolutely true\""
   ]
  },
  {
   "cell_type": "code",
   "execution_count": 1,
   "metadata": {},
   "outputs": [],
   "source": [
    "# Instead of print to check the working of prog use this Debugging\n",
    "import logging\n",
    "logging.basicConfig(filename=\"myLogs.txt\" level=logging.DEBUG, format ='%(asctime)s - %(levelname)s - %(message)s')\n",
    "# to disable logging messages\n",
    "logging.disable()\n",
    "#levels of logging message\n",
    "logging.debug()\n",
    "logging.info()\n",
    "logging.warning()\n",
    "logging.critical()\n",
    "logging.error()\n"
   ]
  },
  {
   "cell_type": "code",
   "execution_count": null,
   "metadata": {},
   "outputs": [
    {
     "name": "stdout",
     "output_type": "stream",
     "text": [
      "> \u001b[1;32mc:\\users\\ahirr\\anaconda3\\lib\\site-packages\\ipython\\core\\compilerop.py\u001b[0m(100)\u001b[0;36mast_parse\u001b[1;34m()\u001b[0m\n",
      "\u001b[1;32m     98 \u001b[1;33m        \u001b[0mArguments\u001b[0m \u001b[0mare\u001b[0m \u001b[0mexactly\u001b[0m \u001b[0mthe\u001b[0m \u001b[0msame\u001b[0m \u001b[1;32mas\u001b[0m \u001b[0mast\u001b[0m\u001b[1;33m.\u001b[0m\u001b[0mparse\u001b[0m \u001b[1;33m(\u001b[0m\u001b[1;32min\u001b[0m \u001b[0mthe\u001b[0m \u001b[0mstandard\u001b[0m \u001b[0mlibrary\u001b[0m\u001b[1;33m)\u001b[0m\u001b[1;33m,\u001b[0m\u001b[1;33m\u001b[0m\u001b[1;33m\u001b[0m\u001b[0m\n",
      "\u001b[0m\u001b[1;32m     99 \u001b[1;33m        and are passed to the built-in compile function.\"\"\"\n",
      "\u001b[0m\u001b[1;32m--> 100 \u001b[1;33m        \u001b[1;32mreturn\u001b[0m \u001b[0mcompile\u001b[0m\u001b[1;33m(\u001b[0m\u001b[0msource\u001b[0m\u001b[1;33m,\u001b[0m \u001b[0mfilename\u001b[0m\u001b[1;33m,\u001b[0m \u001b[0msymbol\u001b[0m\u001b[1;33m,\u001b[0m \u001b[0mself\u001b[0m\u001b[1;33m.\u001b[0m\u001b[0mflags\u001b[0m \u001b[1;33m|\u001b[0m \u001b[0mPyCF_ONLY_AST\u001b[0m\u001b[1;33m,\u001b[0m \u001b[1;36m1\u001b[0m\u001b[1;33m)\u001b[0m\u001b[1;33m\u001b[0m\u001b[1;33m\u001b[0m\u001b[0m\n",
      "\u001b[0m\u001b[1;32m    101 \u001b[1;33m\u001b[1;33m\u001b[0m\u001b[0m\n",
      "\u001b[0m\u001b[1;32m    102 \u001b[1;33m    \u001b[1;32mdef\u001b[0m \u001b[0mreset_compiler_flags\u001b[0m\u001b[1;33m(\u001b[0m\u001b[0mself\u001b[0m\u001b[1;33m)\u001b[0m\u001b[1;33m:\u001b[0m\u001b[1;33m\u001b[0m\u001b[1;33m\u001b[0m\u001b[0m\n",
      "\u001b[0m\n",
      "ipdb> 1\n",
      "1\n",
      "ipdb> 2\n",
      "2\n",
      "ipdb> 3\n",
      "3\n",
      "ipdb> 4\n",
      "4\n"
     ]
    }
   ],
   "source": [
    "# see the debugger gui in python : Debugger\n",
    "%debug\n",
    "def blah():\n",
    "    print('blah')\n",
    "    print('blah')\n",
    "    print('blah')\n",
    "    modeblah()\n",
    "    print('blah')\n",
    "    print('blah')\n",
    "\n",
    "def moreblah():\n",
    "    print('blah')\n",
    "    print('blah')\n",
    "    print('blah')\n",
    "\n",
    "blah()    "
   ]
  },
  {
   "cell_type": "code",
   "execution_count": 9,
   "metadata": {},
   "outputs": [
    {
     "name": "stdout",
     "output_type": "stream",
     "text": [
      "['C:\\\\Users\\\\ahirr\\\\Anaconda3\\\\lib\\\\site-packages\\\\ipykernel_launcher.py', '-f', 'C:\\\\Users\\\\ahirr\\\\AppData\\\\Roaming\\\\jupyter\\\\runtime\\\\kernel-87bff883-834a-468b-8b42-547f0a6d2367.json']\n",
      "-fC:\\Users\\ahirr\\AppData\\Roaming\\jupyter\\runtime\\kernel-87bff883-834a-468b-8b42-547f0a6d2367.json\n"
     ]
    },
    {
     "data": {
      "text/plain": [
       "True"
      ]
     },
     "execution_count": 9,
     "metadata": {},
     "output_type": "execute_result"
    }
   ],
   "source": [
    "# opening a webbrowser and passing a args from cmd\n",
    "\n",
    "import webbrowser, sys\n",
    "sys.argv\n",
    "print(sys.argv)\n",
    "\n",
    "if len(sys.argv) > 1:\n",
    "    address = ''.join(sys.argv[1:])\n",
    "#     after 1 because, we pass a cmd 'x.py' to run the program at 1st index and after that we pass arguements onwards\n",
    "else:\n",
    "    address = 'alabama'\n",
    "print(address)\n",
    "webbrowser.open('https://www.google.com/maps/place/'+address)    "
   ]
  },
  {
   "cell_type": "code",
   "execution_count": 21,
   "metadata": {},
   "outputs": [
    {
     "name": "stdout",
     "output_type": "stream",
     "text": [
      "200\n",
      "C:\\Users\\ahirr\n"
     ]
    }
   ],
   "source": [
    "# get a file from the website and write it into a txt file 'Web scraping'\n",
    "\n",
    "import requests, os\n",
    "res = requests.get('https://automatetheboringstuff.com/files/rj.txt')\n",
    "print(res.status_code)\n",
    "# print(res.text)\n",
    "# tells false if any problem occur with res\n",
    "res.raise_for_status()\n",
    "print(os.getcwd())\n",
    "file = open('rnj.txt', 'wb')\n",
    "for chunk in res.iter_content(10000):\n",
    "    file.write(chunk)\n",
    "    "
   ]
  },
  {
   "cell_type": "code",
   "execution_count": 27,
   "metadata": {},
   "outputs": [],
   "source": [
    "# web scraping Get prices from flipkart\n",
    "import bs4, requests\n",
    "\n",
    "def getflipkartprices(productURL):\n",
    "    res = requests.get(productURL)\n",
    "    res.raise_for_status()\n",
    "    \n",
    "    soup = bs4.BeautifulSoup(res.text)\n",
    "    elems = soup.select('#CSS format')\n",
    "    return elems[0].text.strip()\n",
    "\n",
    "price = getflipkartprice('#pass product url')    \n",
    "print('the price is +price')"
   ]
  },
  {
   "cell_type": "code",
   "execution_count": null,
   "metadata": {},
   "outputs": [],
   "source": [
    "#selenium helps control web browser."
   ]
  },
  {
   "cell_type": "code",
   "execution_count": 6,
   "metadata": {},
   "outputs": [
    {
     "name": "stdout",
     "output_type": "stream",
     "text": [
      "Requirement already satisfied: openpyxl in c:\\users\\ahirr\\anaconda3\\lib\\site-packages (2.5.12)\n",
      "Requirement already satisfied: et-xmlfile in c:\\users\\ahirr\\anaconda3\\lib\\site-packages (from openpyxl) (1.0.1)\n",
      "Requirement already satisfied: jdcal in c:\\users\\ahirr\\anaconda3\\lib\\site-packages (from openpyxl) (1.4)\n"
     ]
    },
    {
     "ename": "AttributeError",
     "evalue": "type object 'pandas._libs.tslibs.conversion._TSObject' has no attribute '__reduce_cython__'",
     "output_type": "error",
     "traceback": [
      "\u001b[1;31m---------------------------------------------------------------------------\u001b[0m",
      "\u001b[1;31mAttributeError\u001b[0m                            Traceback (most recent call last)",
      "\u001b[1;32m<ipython-input-6-989c5e595fc3>\u001b[0m in \u001b[0;36m<module>\u001b[1;34m\u001b[0m\n\u001b[0;32m      1\u001b[0m \u001b[0mget_ipython\u001b[0m\u001b[1;33m(\u001b[0m\u001b[1;33m)\u001b[0m\u001b[1;33m.\u001b[0m\u001b[0msystem\u001b[0m\u001b[1;33m(\u001b[0m\u001b[1;34m'pip install openpyxl'\u001b[0m\u001b[1;33m)\u001b[0m\u001b[1;33m\u001b[0m\u001b[1;33m\u001b[0m\u001b[0m\n\u001b[0;32m      2\u001b[0m \u001b[1;31m#Excel Sheets\u001b[0m\u001b[1;33m\u001b[0m\u001b[1;33m\u001b[0m\u001b[1;33m\u001b[0m\u001b[0m\n\u001b[1;32m----> 3\u001b[1;33m \u001b[1;32mimport\u001b[0m \u001b[0mopenpyxl\u001b[0m\u001b[1;33m\u001b[0m\u001b[1;33m\u001b[0m\u001b[0m\n\u001b[0m\u001b[0;32m      4\u001b[0m \u001b[1;32mimport\u001b[0m \u001b[0mos\u001b[0m\u001b[1;33m\u001b[0m\u001b[1;33m\u001b[0m\u001b[0m\n\u001b[0;32m      5\u001b[0m \u001b[1;31m# os.chdir('C:\\\\Users\\\\ahirr\\\\Desktop')\u001b[0m\u001b[1;33m\u001b[0m\u001b[1;33m\u001b[0m\u001b[1;33m\u001b[0m\u001b[0m\n",
      "\u001b[1;32m~\\Anaconda3\\lib\\site-packages\\openpyxl\\__init__.py\u001b[0m in \u001b[0;36m<module>\u001b[1;34m\u001b[0m\n\u001b[0;32m      2\u001b[0m \u001b[1;33m\u001b[0m\u001b[0m\n\u001b[0;32m      3\u001b[0m \u001b[1;33m\u001b[0m\u001b[0m\n\u001b[1;32m----> 4\u001b[1;33m \u001b[1;32mfrom\u001b[0m \u001b[0mopenpyxl\u001b[0m\u001b[1;33m.\u001b[0m\u001b[0mcompat\u001b[0m\u001b[1;33m.\u001b[0m\u001b[0mnumbers\u001b[0m \u001b[1;32mimport\u001b[0m \u001b[0mNUMPY\u001b[0m\u001b[1;33m,\u001b[0m \u001b[0mPANDAS\u001b[0m\u001b[1;33m\u001b[0m\u001b[1;33m\u001b[0m\u001b[0m\n\u001b[0m\u001b[0;32m      5\u001b[0m \u001b[1;32mfrom\u001b[0m \u001b[0mopenpyxl\u001b[0m\u001b[1;33m.\u001b[0m\u001b[0mxml\u001b[0m \u001b[1;32mimport\u001b[0m \u001b[0mDEFUSEDXML\u001b[0m\u001b[1;33m,\u001b[0m \u001b[0mLXML\u001b[0m\u001b[1;33m\u001b[0m\u001b[1;33m\u001b[0m\u001b[0m\n\u001b[0;32m      6\u001b[0m \u001b[1;32mfrom\u001b[0m \u001b[0mopenpyxl\u001b[0m\u001b[1;33m.\u001b[0m\u001b[0mworkbook\u001b[0m \u001b[1;32mimport\u001b[0m \u001b[0mWorkbook\u001b[0m\u001b[1;33m\u001b[0m\u001b[1;33m\u001b[0m\u001b[0m\n",
      "\u001b[1;32m~\\Anaconda3\\lib\\site-packages\\openpyxl\\compat\\__init__.py\u001b[0m in \u001b[0;36m<module>\u001b[1;34m\u001b[0m\n\u001b[0;32m      3\u001b[0m \u001b[1;33m\u001b[0m\u001b[0m\n\u001b[0;32m      4\u001b[0m \u001b[1;33m\u001b[0m\u001b[0m\n\u001b[1;32m----> 5\u001b[1;33m from .strings import (\n\u001b[0m\u001b[0;32m      6\u001b[0m     \u001b[0mbasestring\u001b[0m\u001b[1;33m,\u001b[0m\u001b[1;33m\u001b[0m\u001b[1;33m\u001b[0m\u001b[0m\n\u001b[0;32m      7\u001b[0m     \u001b[0municode\u001b[0m\u001b[1;33m,\u001b[0m\u001b[1;33m\u001b[0m\u001b[1;33m\u001b[0m\u001b[0m\n",
      "\u001b[1;32m~\\Anaconda3\\lib\\site-packages\\openpyxl\\compat\\strings.py\u001b[0m in \u001b[0;36m<module>\u001b[1;34m\u001b[0m\n\u001b[0;32m      8\u001b[0m \u001b[0mVER\u001b[0m \u001b[1;33m=\u001b[0m \u001b[0msys\u001b[0m\u001b[1;33m.\u001b[0m\u001b[0mversion_info\u001b[0m\u001b[1;33m\u001b[0m\u001b[1;33m\u001b[0m\u001b[0m\n\u001b[0;32m      9\u001b[0m \u001b[1;33m\u001b[0m\u001b[0m\n\u001b[1;32m---> 10\u001b[1;33m \u001b[1;32mfrom\u001b[0m \u001b[1;33m.\u001b[0m\u001b[0mnumbers\u001b[0m \u001b[1;32mimport\u001b[0m \u001b[0mNUMERIC_TYPES\u001b[0m\u001b[1;33m\u001b[0m\u001b[1;33m\u001b[0m\u001b[0m\n\u001b[0m\u001b[0;32m     11\u001b[0m \u001b[1;33m\u001b[0m\u001b[0m\n\u001b[0;32m     12\u001b[0m \u001b[1;32mif\u001b[0m \u001b[0mVER\u001b[0m\u001b[1;33m[\u001b[0m\u001b[1;36m0\u001b[0m\u001b[1;33m]\u001b[0m \u001b[1;33m>=\u001b[0m \u001b[1;36m3\u001b[0m\u001b[1;33m:\u001b[0m\u001b[1;33m\u001b[0m\u001b[1;33m\u001b[0m\u001b[0m\n",
      "\u001b[1;32m~\\Anaconda3\\lib\\site-packages\\openpyxl\\compat\\numbers.py\u001b[0m in \u001b[0;36m<module>\u001b[1;34m\u001b[0m\n\u001b[0;32m     26\u001b[0m \u001b[1;33m\u001b[0m\u001b[0m\n\u001b[0;32m     27\u001b[0m \u001b[1;32mtry\u001b[0m\u001b[1;33m:\u001b[0m\u001b[1;33m\u001b[0m\u001b[1;33m\u001b[0m\u001b[0m\n\u001b[1;32m---> 28\u001b[1;33m     \u001b[1;32mimport\u001b[0m \u001b[0mpandas\u001b[0m\u001b[1;33m\u001b[0m\u001b[1;33m\u001b[0m\u001b[0m\n\u001b[0m\u001b[0;32m     29\u001b[0m     \u001b[0mPANDAS\u001b[0m \u001b[1;33m=\u001b[0m \u001b[1;32mTrue\u001b[0m\u001b[1;33m\u001b[0m\u001b[1;33m\u001b[0m\u001b[0m\n\u001b[0;32m     30\u001b[0m \u001b[1;32mexcept\u001b[0m \u001b[0mImportError\u001b[0m\u001b[1;33m:\u001b[0m\u001b[1;33m\u001b[0m\u001b[1;33m\u001b[0m\u001b[0m\n",
      "\u001b[1;32m~\\Anaconda3\\lib\\site-packages\\pandas\\__init__.py\u001b[0m in \u001b[0;36m<module>\u001b[1;34m\u001b[0m\n\u001b[0;32m     29\u001b[0m \u001b[1;33m\u001b[0m\u001b[0m\n\u001b[0;32m     30\u001b[0m \u001b[1;32mtry\u001b[0m\u001b[1;33m:\u001b[0m\u001b[1;33m\u001b[0m\u001b[1;33m\u001b[0m\u001b[0m\n\u001b[1;32m---> 31\u001b[1;33m     \u001b[1;32mfrom\u001b[0m \u001b[0mpandas\u001b[0m\u001b[1;33m.\u001b[0m\u001b[0m_libs\u001b[0m \u001b[1;32mimport\u001b[0m \u001b[0mhashtable\u001b[0m \u001b[1;32mas\u001b[0m \u001b[0m_hashtable\u001b[0m\u001b[1;33m,\u001b[0m \u001b[0mlib\u001b[0m \u001b[1;32mas\u001b[0m \u001b[0m_lib\u001b[0m\u001b[1;33m,\u001b[0m \u001b[0mtslib\u001b[0m \u001b[1;32mas\u001b[0m \u001b[0m_tslib\u001b[0m\u001b[1;33m\u001b[0m\u001b[1;33m\u001b[0m\u001b[0m\n\u001b[0m\u001b[0;32m     32\u001b[0m \u001b[1;32mexcept\u001b[0m \u001b[0mImportError\u001b[0m \u001b[1;32mas\u001b[0m \u001b[0me\u001b[0m\u001b[1;33m:\u001b[0m  \u001b[1;31m# pragma: no cover\u001b[0m\u001b[1;33m\u001b[0m\u001b[1;33m\u001b[0m\u001b[0m\n\u001b[0;32m     33\u001b[0m     \u001b[1;31m# hack but overkill to use re\u001b[0m\u001b[1;33m\u001b[0m\u001b[1;33m\u001b[0m\u001b[1;33m\u001b[0m\u001b[0m\n",
      "\u001b[1;32m~\\Anaconda3\\lib\\site-packages\\pandas\\_libs\\__init__.py\u001b[0m in \u001b[0;36m<module>\u001b[1;34m\u001b[0m\n\u001b[0;32m      1\u001b[0m \u001b[1;31m# flake8: noqa\u001b[0m\u001b[1;33m\u001b[0m\u001b[1;33m\u001b[0m\u001b[1;33m\u001b[0m\u001b[0m\n\u001b[0;32m      2\u001b[0m \u001b[1;33m\u001b[0m\u001b[0m\n\u001b[1;32m----> 3\u001b[1;33m from .tslibs import (\n\u001b[0m\u001b[0;32m      4\u001b[0m     \u001b[0mNaT\u001b[0m\u001b[1;33m,\u001b[0m\u001b[1;33m\u001b[0m\u001b[1;33m\u001b[0m\u001b[0m\n\u001b[0;32m      5\u001b[0m     \u001b[0mNaTType\u001b[0m\u001b[1;33m,\u001b[0m\u001b[1;33m\u001b[0m\u001b[1;33m\u001b[0m\u001b[0m\n",
      "\u001b[1;32m~\\Anaconda3\\lib\\site-packages\\pandas\\_libs\\tslibs\\__init__.py\u001b[0m in \u001b[0;36m<module>\u001b[1;34m\u001b[0m\n\u001b[0;32m      1\u001b[0m \u001b[1;31m# flake8: noqa\u001b[0m\u001b[1;33m\u001b[0m\u001b[1;33m\u001b[0m\u001b[1;33m\u001b[0m\u001b[0m\n\u001b[0;32m      2\u001b[0m \u001b[1;33m\u001b[0m\u001b[0m\n\u001b[1;32m----> 3\u001b[1;33m \u001b[1;32mfrom\u001b[0m \u001b[1;33m.\u001b[0m\u001b[0mconversion\u001b[0m \u001b[1;32mimport\u001b[0m \u001b[0mlocalize_pydatetime\u001b[0m\u001b[1;33m,\u001b[0m \u001b[0mnormalize_date\u001b[0m\u001b[1;33m\u001b[0m\u001b[1;33m\u001b[0m\u001b[0m\n\u001b[0m\u001b[0;32m      4\u001b[0m \u001b[1;32mfrom\u001b[0m \u001b[1;33m.\u001b[0m\u001b[0mnattype\u001b[0m \u001b[1;32mimport\u001b[0m \u001b[0mNaT\u001b[0m\u001b[1;33m,\u001b[0m \u001b[0mNaTType\u001b[0m\u001b[1;33m,\u001b[0m \u001b[0miNaT\u001b[0m\u001b[1;33m,\u001b[0m \u001b[0mis_null_datetimelike\u001b[0m\u001b[1;33m\u001b[0m\u001b[1;33m\u001b[0m\u001b[0m\n\u001b[0;32m      5\u001b[0m \u001b[1;32mfrom\u001b[0m \u001b[1;33m.\u001b[0m\u001b[0mnp_datetime\u001b[0m \u001b[1;32mimport\u001b[0m \u001b[0mOutOfBoundsDatetime\u001b[0m\u001b[1;33m\u001b[0m\u001b[1;33m\u001b[0m\u001b[0m\n",
      "\u001b[1;32mpandas\\_libs\\tslibs\\conversion.pyx\u001b[0m in \u001b[0;36minit pandas._libs.tslibs.conversion\u001b[1;34m()\u001b[0m\n",
      "\u001b[1;31mAttributeError\u001b[0m: type object 'pandas._libs.tslibs.conversion._TSObject' has no attribute '__reduce_cython__'"
     ]
    }
   ],
   "source": [
    "!pip install openpyxl\n",
    "#Excel Sheets\n",
    "import openpyxl\n",
    "import os\n",
    "# os.chdir('C:\\\\Users\\\\ahirr\\\\Desktop')\n",
    "# print(os.getcwd())\n",
    "# workbook = openpyxl.load_workbook('example.xlsx')\n",
    "# # print(os.getcwd())\n",
    "\n",
    "# ************************ The module openpyxl not working *******************************"
   ]
  },
  {
   "cell_type": "code",
   "execution_count": 6,
   "metadata": {},
   "outputs": [
    {
     "name": "stdout",
     "output_type": "stream",
     "text": [
      "<class 'smtplib.SMTP'>\n"
     ]
    },
    {
     "data": {
      "text/plain": [
       "(221, b'2.0.0 closing connection q201sm2945021pfq.40 - gsmtp')"
      ]
     },
     "execution_count": 6,
     "metadata": {},
     "output_type": "execute_result"
    }
   ],
   "source": [
    "#***************Emails using python************************\n",
    "\n",
    "import smtplib\n",
    "\n",
    "conn = smtplib.SMTP('smtp.gmail.com', 587)\n",
    "print(type(conn))\n",
    "conn.ehlo()\n",
    "conn.starttls()\n",
    "conn.login(\"ahirraoabhishek007@gmail.com\", \"\")\n",
    "conn.sendmail('ahirraoabhishek007@gmail.com','ahirraoabhishek007@outlook.com', 'Subject: Hey python coder boi \\n\\n Worked? \\n\\n-Abhi')\n",
    "conn.quit()"
   ]
  },
  {
   "cell_type": "code",
   "execution_count": 25,
   "metadata": {},
   "outputs": [
    {
     "ename": "ModuleNotFoundError",
     "evalue": "No module named 'pyzmail'",
     "output_type": "error",
     "traceback": [
      "\u001b[1;31m---------------------------------------------------------------------------\u001b[0m",
      "\u001b[1;31mModuleNotFoundError\u001b[0m                       Traceback (most recent call last)",
      "\u001b[1;32m<ipython-input-25-4aedbb11c553>\u001b[0m in \u001b[0;36m<module>\u001b[1;34m\u001b[0m\n\u001b[0;32m      8\u001b[0m \u001b[0mconn\u001b[0m\u001b[1;33m.\u001b[0m\u001b[0mfetch\u001b[0m\u001b[1;33m(\u001b[0m\u001b[1;33m[\u001b[0m\u001b[1;36m986\u001b[0m\u001b[1;33m]\u001b[0m\u001b[1;33m,\u001b[0m\u001b[1;33m[\u001b[0m\u001b[1;34m'BODY[]'\u001b[0m\u001b[1;33m,\u001b[0m\u001b[1;34m'FLAGS'\u001b[0m\u001b[1;33m]\u001b[0m\u001b[1;33m)\u001b[0m\u001b[1;33m\u001b[0m\u001b[1;33m\u001b[0m\u001b[0m\n\u001b[0;32m      9\u001b[0m \u001b[1;33m\u001b[0m\u001b[0m\n\u001b[1;32m---> 10\u001b[1;33m \u001b[1;32mimport\u001b[0m \u001b[0mpyzmail\u001b[0m\u001b[1;33m\u001b[0m\u001b[1;33m\u001b[0m\u001b[0m\n\u001b[0m\u001b[0;32m     11\u001b[0m \u001b[1;33m\u001b[0m\u001b[0m\n\u001b[0;32m     12\u001b[0m \u001b[0mmessage\u001b[0m \u001b[1;33m=\u001b[0m \u001b[0mpyzmail\u001b[0m\u001b[1;33m.\u001b[0m\u001b[0mPyzMessage\u001b[0m\u001b[1;33m.\u001b[0m\u001b[0mfactory\u001b[0m\u001b[1;33m(\u001b[0m\u001b[0mrawMessage\u001b[0m\u001b[1;33m[\u001b[0m\u001b[1;36m986\u001b[0m\u001b[1;33m]\u001b[0m\u001b[1;33m[\u001b[0m\u001b[1;34mb'BODY[]'\u001b[0m\u001b[1;33m]\u001b[0m\u001b[1;33m)\u001b[0m\u001b[1;33m\u001b[0m\u001b[1;33m\u001b[0m\u001b[0m\n",
      "\u001b[1;31mModuleNotFoundError\u001b[0m: No module named 'pyzmail'"
     ]
    }
   ],
   "source": [
    "# retrieving info from mail\n",
    "# pip install imapclient pyzmail\n",
    "import imapclient\n",
    "conn = imapclient.IMAPClient('imap.gmail.com', ssl=True)\n",
    "conn.login('ahirraoabhishek007@gmail.com','')\n",
    "conn.select_folder('INBOX', readonly = True)\n",
    "UIDs = conn.search(['UNSEEN'])\n",
    "UIDs\n",
    "conn.fetch([986],['BODY[]','FLAGS'])\n",
    "\n",
    "import pyzmail\n",
    "\n",
    "message = pyzmail.PyzMessage.factory(rawMessage[986][b'BODY[]'])\n",
    "print(message)              \n",
    "#problem using pyzmail\n"
   ]
  }
 ],
 "metadata": {
  "kernelspec": {
   "display_name": "Python 3",
   "language": "python",
   "name": "python3"
  },
  "language_info": {
   "codemirror_mode": {
    "name": "ipython",
    "version": 3
   },
   "file_extension": ".py",
   "mimetype": "text/x-python",
   "name": "python",
   "nbconvert_exporter": "python",
   "pygments_lexer": "ipython3",
   "version": "3.7.1"
  }
 },
 "nbformat": 4,
 "nbformat_minor": 2
}
